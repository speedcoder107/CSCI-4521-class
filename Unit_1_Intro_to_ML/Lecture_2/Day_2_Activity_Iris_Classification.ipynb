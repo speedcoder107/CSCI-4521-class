{
  "cells": [
    {
      "cell_type": "code",
      "execution_count": 1,
      "metadata": {
        "id": "nJNoBorVdW7v"
      },
      "outputs": [],
      "source": [
        "import pandas as pd\n",
        "import numpy as np\n",
        "import seaborn as sns\n",
        "import matplotlib.pyplot as plt\n",
        "\n",
        "\n",
        "\n",
        "df = pd.read_csv(\"https://raw.githubusercontent.com/sziccardi/CSCI4521_DataRepository/refs/heads/main/iris.csv\")"
      ]
    },
    {
      "cell_type": "markdown",
      "metadata": {
        "id": "CYaCMf5HdpLM"
      },
      "source": [
        "Make a variable for `petal_length`, and `species`, and store values in a numpy array.\n",
        "\n",
        "You'll want to use the `.to_numpy()` command either on the entire dataframe `df.to_numpy()` or on a slice of the dataframe `df[\"some_value\"].to_numpy()`."
      ]
    },
    {
      "cell_type": "code",
      "execution_count": 2,
      "metadata": {
        "colab": {
          "base_uri": "https://localhost:8080/"
        },
        "id": "3ATd7kPQeB4j",
        "outputId": "e83d24bf-561d-4e2b-fd6c-c64bad282242"
      },
      "outputs": [
        {
          "name": "stdout",
          "output_type": "stream",
          "text": [
            "Index(['sepal.length', 'sepal.width', 'petal.length', 'petal.width',\n",
            "       'variety'],\n",
            "      dtype='object')\n"
          ]
        }
      ],
      "source": [
        "#Your code here, get numpy arrays\n",
        "iris = df.to_numpy()\n",
        "labels = iris[:,-1]\n",
        "print(df.columns)"
      ]
    },
    {
      "cell_type": "markdown",
      "metadata": {
        "id": "nkCKPVOFeErE"
      },
      "source": [
        "Next get the lengths seperatly where the variety is \"Setosa\" and the lengths where the variety is not \"Setosa\"."
      ]
    },
    {
      "cell_type": "code",
      "execution_count": 3,
      "metadata": {
        "id": "emtJBzR-eTfK"
      },
      "outputs": [],
      "source": [
        "#Your code here, split lengths int \"Setosa\" vs not\n",
        "is_setosa = iris[(labels == \"Setosa\")]\n",
        "\n",
        "not_setosa = iris[(labels != \"Setosa\")]"
      ]
    },
    {
      "cell_type": "code",
      "execution_count": 4,
      "metadata": {
        "colab": {
          "base_uri": "https://localhost:8080/"
        },
        "id": "gv_JPzJtZY-u",
        "outputId": "d91b8d42-8abc-4288-f098-10c46d705c1b"
      },
      "outputs": [
        {
          "name": "stdout",
          "output_type": "stream",
          "text": [
            "Maximum petal length in Setosa: 1.9\n",
            "Minimum petal length in other varieties: 3.0\n"
          ]
        }
      ],
      "source": [
        "ary_max = np.max(is_setosa[:, 2])\n",
        "\n",
        "ary_min = np.min(not_setosa[:, 2])\n",
        "\n",
        "print(f\"Maximum petal length in Setosa: {ary_max}\")\n",
        "print(f\"Minimum petal length in other varieties: {ary_min}\")"
      ]
    },
    {
      "cell_type": "markdown",
      "metadata": {
        "id": "D_1g2K7FeSrm"
      },
      "source": [
        "Finally, find a length the is bigger than all Setosas but smaller than all non-Seosas. You probably want to use `ary.min()` and `ary.max()`. This becomes your classification boundary! Submit this number on Canvas for today's activity :)"
      ]
    },
    {
      "cell_type": "code",
      "execution_count": 5,
      "metadata": {
        "colab": {
          "base_uri": "https://localhost:8080/"
        },
        "id": "C7JTZyROemBf",
        "outputId": "e66466bf-ce45-4206-da13-b313e58c0fff"
      },
      "outputs": [
        {
          "name": "stdout",
          "output_type": "stream",
          "text": [
            "Classification boundary: 2.45\n"
          ]
        }
      ],
      "source": [
        "#Your code here, find the classification boundary value\n",
        "\n",
        "boundary = (ary_max + ary_min)/2\n",
        "print(f\"Classification boundary: {boundary}\")"
      ]
    }
  ],
  "metadata": {
    "colab": {
      "provenance": []
    },
    "kernelspec": {
      "display_name": "CSCI-4521-class-venv",
      "language": "python",
      "name": "python3"
    },
    "language_info": {
      "codemirror_mode": {
        "name": "ipython",
        "version": 3
      },
      "file_extension": ".py",
      "mimetype": "text/x-python",
      "name": "python",
      "nbconvert_exporter": "python",
      "pygments_lexer": "ipython3",
      "version": "3.12.3"
    }
  },
  "nbformat": 4,
  "nbformat_minor": 0
}
