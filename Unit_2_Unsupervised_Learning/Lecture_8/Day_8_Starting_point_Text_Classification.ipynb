{
  "cells": [
    {
      "cell_type": "markdown",
      "metadata": {
        "id": "E9CcmwoY1Uxc"
      },
      "source": [
        "## Download and extra the data\n",
        "Data is in a zip file"
      ]
    },
    {
      "cell_type": "code",
      "execution_count": 3,
      "metadata": {
        "colab": {
          "base_uri": "https://localhost:8080/"
        },
        "id": "lIs6IoqSd3Dz",
        "outputId": "49195b14-877b-4a07-b23f-6c66187d9ee7"
      },
      "outputs": [
        {
          "name": "stderr",
          "output_type": "stream",
          "text": [
            "'wget' is not recognized as an internal or external command,\n",
            "operable program or batch file.\n"
          ]
        }
      ],
      "source": [
        "!wget \"https://raw.githubusercontent.com/sziccardi/CSCI4521_DataRepository/refs/heads/main/20news-bydate.tar.gz\""
      ]
    },
    {
      "cell_type": "code",
      "execution_count": 4,
      "metadata": {
        "id": "uKE6Dkole9Qn"
      },
      "outputs": [
        {
          "name": "stderr",
          "output_type": "stream",
          "text": [
            "tar: Error opening archive: Failed to open '20news-bydate.tar.gz'\n"
          ]
        }
      ],
      "source": [
        "!tar -xf 20news-bydate.tar.gz"
      ]
    },
    {
      "cell_type": "markdown",
      "metadata": {
        "id": "hWoW7gpG1c56"
      },
      "source": [
        "## Using SciKit-Learn's CountVectorizer\n"
      ]
    },
    {
      "cell_type": "code",
      "execution_count": 5,
      "metadata": {
        "id": "BEMdRINDfMy5"
      },
      "outputs": [],
      "source": [
        "from sklearn.feature_extraction.text import CountVectorizer"
      ]
    },
    {
      "cell_type": "markdown",
      "metadata": {
        "id": "9U1f4K9efv84"
      },
      "source": [
        "The parameter `min_df` controls effect words that are not used frequently (min_df = minimum document frequency).\n",
        " - If it is an integer, all words occurring less than that value will be dropped.\n",
        " - If it is a fraction, all words that occur less than that fraction of the overall dataset are be dropped.\n",
        "\n",
        "`max_df` works in a similar manner"
      ]
    },
    {
      "cell_type": "code",
      "execution_count": 6,
      "metadata": {
        "id": "a9xSHagyftHK"
      },
      "outputs": [],
      "source": [
        "vectorizer = CountVectorizer(min_df=1) #min_df=1 --> use all words"
      ]
    },
    {
      "cell_type": "code",
      "execution_count": 7,
      "metadata": {
        "id": "spUna2RtXUTL"
      },
      "outputs": [
        {
          "name": "stdout",
          "output_type": "stream",
          "text": [
            "\u001b[1;31mInit signature:\u001b[0m\n",
            "\u001b[0mCountVectorizer\u001b[0m\u001b[1;33m(\u001b[0m\u001b[1;33m\n",
            "\u001b[0m    \u001b[1;33m*\u001b[0m\u001b[1;33m,\u001b[0m\u001b[1;33m\n",
            "\u001b[0m    \u001b[0minput\u001b[0m\u001b[1;33m=\u001b[0m\u001b[1;34m'content'\u001b[0m\u001b[1;33m,\u001b[0m\u001b[1;33m\n",
            "\u001b[0m    \u001b[0mencoding\u001b[0m\u001b[1;33m=\u001b[0m\u001b[1;34m'utf-8'\u001b[0m\u001b[1;33m,\u001b[0m\u001b[1;33m\n",
            "\u001b[0m    \u001b[0mdecode_error\u001b[0m\u001b[1;33m=\u001b[0m\u001b[1;34m'strict'\u001b[0m\u001b[1;33m,\u001b[0m\u001b[1;33m\n",
            "\u001b[0m    \u001b[0mstrip_accents\u001b[0m\u001b[1;33m=\u001b[0m\u001b[1;32mNone\u001b[0m\u001b[1;33m,\u001b[0m\u001b[1;33m\n",
            "\u001b[0m    \u001b[0mlowercase\u001b[0m\u001b[1;33m=\u001b[0m\u001b[1;32mTrue\u001b[0m\u001b[1;33m,\u001b[0m\u001b[1;33m\n",
            "\u001b[0m    \u001b[0mpreprocessor\u001b[0m\u001b[1;33m=\u001b[0m\u001b[1;32mNone\u001b[0m\u001b[1;33m,\u001b[0m\u001b[1;33m\n",
            "\u001b[0m    \u001b[0mtokenizer\u001b[0m\u001b[1;33m=\u001b[0m\u001b[1;32mNone\u001b[0m\u001b[1;33m,\u001b[0m\u001b[1;33m\n",
            "\u001b[0m    \u001b[0mstop_words\u001b[0m\u001b[1;33m=\u001b[0m\u001b[1;32mNone\u001b[0m\u001b[1;33m,\u001b[0m\u001b[1;33m\n",
            "\u001b[0m    \u001b[0mtoken_pattern\u001b[0m\u001b[1;33m=\u001b[0m\u001b[1;34m'(?u)\\\\b\\\\w\\\\w+\\\\b'\u001b[0m\u001b[1;33m,\u001b[0m\u001b[1;33m\n",
            "\u001b[0m    \u001b[0mngram_range\u001b[0m\u001b[1;33m=\u001b[0m\u001b[1;33m(\u001b[0m\u001b[1;36m1\u001b[0m\u001b[1;33m,\u001b[0m \u001b[1;36m1\u001b[0m\u001b[1;33m)\u001b[0m\u001b[1;33m,\u001b[0m\u001b[1;33m\n",
            "\u001b[0m    \u001b[0manalyzer\u001b[0m\u001b[1;33m=\u001b[0m\u001b[1;34m'word'\u001b[0m\u001b[1;33m,\u001b[0m\u001b[1;33m\n",
            "\u001b[0m    \u001b[0mmax_df\u001b[0m\u001b[1;33m=\u001b[0m\u001b[1;36m1.0\u001b[0m\u001b[1;33m,\u001b[0m\u001b[1;33m\n",
            "\u001b[0m    \u001b[0mmin_df\u001b[0m\u001b[1;33m=\u001b[0m\u001b[1;36m1\u001b[0m\u001b[1;33m,\u001b[0m\u001b[1;33m\n",
            "\u001b[0m    \u001b[0mmax_features\u001b[0m\u001b[1;33m=\u001b[0m\u001b[1;32mNone\u001b[0m\u001b[1;33m,\u001b[0m\u001b[1;33m\n",
            "\u001b[0m    \u001b[0mvocabulary\u001b[0m\u001b[1;33m=\u001b[0m\u001b[1;32mNone\u001b[0m\u001b[1;33m,\u001b[0m\u001b[1;33m\n",
            "\u001b[0m    \u001b[0mbinary\u001b[0m\u001b[1;33m=\u001b[0m\u001b[1;32mFalse\u001b[0m\u001b[1;33m,\u001b[0m\u001b[1;33m\n",
            "\u001b[0m    \u001b[0mdtype\u001b[0m\u001b[1;33m=\u001b[0m\u001b[1;33m<\u001b[0m\u001b[1;32mclass\u001b[0m \u001b[1;34m'numpy.int64'\u001b[0m\u001b[1;33m>\u001b[0m\u001b[1;33m,\u001b[0m\u001b[1;33m\n",
            "\u001b[0m\u001b[1;33m)\u001b[0m\u001b[1;33m\u001b[0m\u001b[1;33m\u001b[0m\u001b[0m\n",
            "\u001b[1;31mDocstring:\u001b[0m     \n",
            "Convert a collection of text documents to a matrix of token counts.\n",
            "\n",
            "This implementation produces a sparse representation of the counts using\n",
            "scipy.sparse.csr_matrix.\n",
            "\n",
            "If you do not provide an a-priori dictionary and you do not use an analyzer\n",
            "that does some kind of feature selection then the number of features will\n",
            "be equal to the vocabulary size found by analyzing the data.\n",
            "\n",
            "For an efficiency comparison of the different feature extractors, see\n",
            ":ref:`sphx_glr_auto_examples_text_plot_hashing_vs_dict_vectorizer.py`.\n",
            "\n",
            "Read more in the :ref:`User Guide <text_feature_extraction>`.\n",
            "\n",
            "Parameters\n",
            "----------\n",
            "input : {'filename', 'file', 'content'}, default='content'\n",
            "    - If `'filename'`, the sequence passed as an argument to fit is\n",
            "      expected to be a list of filenames that need reading to fetch\n",
            "      the raw content to analyze.\n",
            "\n",
            "    - If `'file'`, the sequence items must have a 'read' method (file-like\n",
            "      object) that is called to fetch the bytes in memory.\n",
            "\n",
            "    - If `'content'`, the input is expected to be a sequence of items that\n",
            "      can be of type string or byte.\n",
            "\n",
            "encoding : str, default='utf-8'\n",
            "    If bytes or files are given to analyze, this encoding is used to\n",
            "    decode.\n",
            "\n",
            "decode_error : {'strict', 'ignore', 'replace'}, default='strict'\n",
            "    Instruction on what to do if a byte sequence is given to analyze that\n",
            "    contains characters not of the given `encoding`. By default, it is\n",
            "    'strict', meaning that a UnicodeDecodeError will be raised. Other\n",
            "    values are 'ignore' and 'replace'.\n",
            "\n",
            "strip_accents : {'ascii', 'unicode'} or callable, default=None\n",
            "    Remove accents and perform other character normalization\n",
            "    during the preprocessing step.\n",
            "    'ascii' is a fast method that only works on characters that have\n",
            "    a direct ASCII mapping.\n",
            "    'unicode' is a slightly slower method that works on any characters.\n",
            "    None (default) means no character normalization is performed.\n",
            "\n",
            "    Both 'ascii' and 'unicode' use NFKD normalization from\n",
            "    :func:`unicodedata.normalize`.\n",
            "\n",
            "lowercase : bool, default=True\n",
            "    Convert all characters to lowercase before tokenizing.\n",
            "\n",
            "preprocessor : callable, default=None\n",
            "    Override the preprocessing (strip_accents and lowercase) stage while\n",
            "    preserving the tokenizing and n-grams generation steps.\n",
            "    Only applies if ``analyzer`` is not callable.\n",
            "\n",
            "tokenizer : callable, default=None\n",
            "    Override the string tokenization step while preserving the\n",
            "    preprocessing and n-grams generation steps.\n",
            "    Only applies if ``analyzer == 'word'``.\n",
            "\n",
            "stop_words : {'english'}, list, default=None\n",
            "    If 'english', a built-in stop word list for English is used.\n",
            "    There are several known issues with 'english' and you should\n",
            "    consider an alternative (see :ref:`stop_words`).\n",
            "\n",
            "    If a list, that list is assumed to contain stop words, all of which\n",
            "    will be removed from the resulting tokens.\n",
            "    Only applies if ``analyzer == 'word'``.\n",
            "\n",
            "    If None, no stop words will be used. In this case, setting `max_df`\n",
            "    to a higher value, such as in the range (0.7, 1.0), can automatically detect\n",
            "    and filter stop words based on intra corpus document frequency of terms.\n",
            "\n",
            "token_pattern : str or None, default=r\"(?u)\\\\b\\\\w\\\\w+\\\\b\"\n",
            "    Regular expression denoting what constitutes a \"token\", only used\n",
            "    if ``analyzer == 'word'``. The default regexp select tokens of 2\n",
            "    or more alphanumeric characters (punctuation is completely ignored\n",
            "    and always treated as a token separator).\n",
            "\n",
            "    If there is a capturing group in token_pattern then the\n",
            "    captured group content, not the entire match, becomes the token.\n",
            "    At most one capturing group is permitted.\n",
            "\n",
            "ngram_range : tuple (min_n, max_n), default=(1, 1)\n",
            "    The lower and upper boundary of the range of n-values for different\n",
            "    word n-grams or char n-grams to be extracted. All values of n such\n",
            "    such that min_n <= n <= max_n will be used. For example an\n",
            "    ``ngram_range`` of ``(1, 1)`` means only unigrams, ``(1, 2)`` means\n",
            "    unigrams and bigrams, and ``(2, 2)`` means only bigrams.\n",
            "    Only applies if ``analyzer`` is not callable.\n",
            "\n",
            "analyzer : {'word', 'char', 'char_wb'} or callable, default='word'\n",
            "    Whether the feature should be made of word n-gram or character\n",
            "    n-grams.\n",
            "    Option 'char_wb' creates character n-grams only from text inside\n",
            "    word boundaries; n-grams at the edges of words are padded with space.\n",
            "\n",
            "    If a callable is passed it is used to extract the sequence of features\n",
            "    out of the raw, unprocessed input.\n",
            "\n",
            "    .. versionchanged:: 0.21\n",
            "\n",
            "    Since v0.21, if ``input`` is ``filename`` or ``file``, the data is\n",
            "    first read from the file and then passed to the given callable\n",
            "    analyzer.\n",
            "\n",
            "max_df : float in range [0.0, 1.0] or int, default=1.0\n",
            "    When building the vocabulary ignore terms that have a document\n",
            "    frequency strictly higher than the given threshold (corpus-specific\n",
            "    stop words).\n",
            "    If float, the parameter represents a proportion of documents, integer\n",
            "    absolute counts.\n",
            "    This parameter is ignored if vocabulary is not None.\n",
            "\n",
            "min_df : float in range [0.0, 1.0] or int, default=1\n",
            "    When building the vocabulary ignore terms that have a document\n",
            "    frequency strictly lower than the given threshold. This value is also\n",
            "    called cut-off in the literature.\n",
            "    If float, the parameter represents a proportion of documents, integer\n",
            "    absolute counts.\n",
            "    This parameter is ignored if vocabulary is not None.\n",
            "\n",
            "max_features : int, default=None\n",
            "    If not None, build a vocabulary that only consider the top\n",
            "    `max_features` ordered by term frequency across the corpus.\n",
            "    Otherwise, all features are used.\n",
            "\n",
            "    This parameter is ignored if vocabulary is not None.\n",
            "\n",
            "vocabulary : Mapping or iterable, default=None\n",
            "    Either a Mapping (e.g., a dict) where keys are terms and values are\n",
            "    indices in the feature matrix, or an iterable over terms. If not\n",
            "    given, a vocabulary is determined from the input documents. Indices\n",
            "    in the mapping should not be repeated and should not have any gap\n",
            "    between 0 and the largest index.\n",
            "\n",
            "binary : bool, default=False\n",
            "    If True, all non zero counts are set to 1. This is useful for discrete\n",
            "    probabilistic models that model binary events rather than integer\n",
            "    counts.\n",
            "\n",
            "dtype : dtype, default=np.int64\n",
            "    Type of the matrix returned by fit_transform() or transform().\n",
            "\n",
            "Attributes\n",
            "----------\n",
            "vocabulary_ : dict\n",
            "    A mapping of terms to feature indices.\n",
            "\n",
            "fixed_vocabulary_ : bool\n",
            "    True if a fixed vocabulary of term to indices mapping\n",
            "    is provided by the user.\n",
            "\n",
            "See Also\n",
            "--------\n",
            "HashingVectorizer : Convert a collection of text documents to a\n",
            "    matrix of token counts.\n",
            "\n",
            "TfidfVectorizer : Convert a collection of raw documents to a matrix\n",
            "    of TF-IDF features.\n",
            "\n",
            "Examples\n",
            "--------\n",
            ">>> from sklearn.feature_extraction.text import CountVectorizer\n",
            ">>> corpus = [\n",
            "...     'This is the first document.',\n",
            "...     'This document is the second document.',\n",
            "...     'And this is the third one.',\n",
            "...     'Is this the first document?',\n",
            "... ]\n",
            ">>> vectorizer = CountVectorizer()\n",
            ">>> X = vectorizer.fit_transform(corpus)\n",
            ">>> vectorizer.get_feature_names_out()\n",
            "array(['and', 'document', 'first', 'is', 'one', 'second', 'the', 'third',\n",
            "       'this'], ...)\n",
            ">>> print(X.toarray())\n",
            "[[0 1 1 1 0 0 1 0 1]\n",
            " [0 2 0 1 0 1 1 0 1]\n",
            " [1 0 0 1 1 0 1 1 1]\n",
            " [0 1 1 1 0 0 1 0 1]]\n",
            ">>> vectorizer2 = CountVectorizer(analyzer='word', ngram_range=(2, 2))\n",
            ">>> X2 = vectorizer2.fit_transform(corpus)\n",
            ">>> vectorizer2.get_feature_names_out()\n",
            "array(['and this', 'document is', 'first document', 'is the', 'is this',\n",
            "       'second document', 'the first', 'the second', 'the third', 'third one',\n",
            "       'this document', 'this is', 'this the'], ...)\n",
            " >>> print(X2.toarray())\n",
            " [[0 0 1 1 0 0 1 0 0 0 0 1 0]\n",
            " [0 1 0 1 0 1 0 1 0 0 1 0 0]\n",
            " [1 0 0 1 0 0 0 0 1 1 0 1 0]\n",
            " [0 0 1 0 1 0 1 0 0 0 0 0 1]]\n",
            "\u001b[1;31mFile:\u001b[0m           c:\\users\\aksha\\documents\\venvs\\csci-4521-class-venv\\lib\\site-packages\\sklearn\\feature_extraction\\text.py\n",
            "\u001b[1;31mType:\u001b[0m           type\n",
            "\u001b[1;31mSubclasses:\u001b[0m     TfidfVectorizer"
          ]
        }
      ],
      "source": [
        "CountVectorizer?"
      ]
    },
    {
      "cell_type": "markdown",
      "metadata": {
        "id": "X2dwLKYvgqkf"
      },
      "source": [
        "Consider two sentences:"
      ]
    },
    {
      "cell_type": "code",
      "execution_count": 8,
      "metadata": {
        "id": "rwW49arVgNq0"
      },
      "outputs": [],
      "source": [
        "content = [\"How to catch pokemon\", \"Which Pokemon is the hardest to catch?\"]"
      ]
    },
    {
      "cell_type": "markdown",
      "metadata": {
        "id": "SFYoYjsngsc-"
      },
      "source": [
        "How many uniuqe words between the two?\n",
        "  - Is `catch` and `catch?` the same word?\n",
        "  - Is `Pokemon` and `pokemon` the same word?\n",
        "  - Would `catch` and `catching` be the same word?"
      ]
    },
    {
      "cell_type": "code",
      "execution_count": 9,
      "metadata": {
        "colab": {
          "base_uri": "https://localhost:8080/"
        },
        "id": "n3wW8WzSgmnn",
        "outputId": "769b06c7-461d-4a87-953d-e30d21e26d6d"
      },
      "outputs": [
        {
          "data": {
            "text/plain": [
              "array(['catch', 'hardest', 'how', 'is', 'pokemon', 'the', 'to', 'which'],\n",
              "      dtype=object)"
            ]
          },
          "execution_count": 9,
          "metadata": {},
          "output_type": "execute_result"
        }
      ],
      "source": [
        "# TODO: fit_transform the sentences then print the vocab\n",
        "X = vectorizer.fit_transform(content)\n",
        "vectorizer.get_feature_names_out()"
      ]
    },
    {
      "cell_type": "markdown",
      "metadata": {
        "id": "DeKbMzxWhE1e"
      },
      "source": [
        "We can turn each sentence into a \"bag of words\" ... for each sentence:\n",
        " - 1 is word is present\n",
        " - 0 is word is absent"
      ]
    },
    {
      "cell_type": "code",
      "execution_count": 10,
      "metadata": {
        "colab": {
          "base_uri": "https://localhost:8080/"
        },
        "id": "Y0HPH_Z7X9pJ",
        "outputId": "cd62592f-2dc3-4d36-e991-335783e95ed9"
      },
      "outputs": [
        {
          "name": "stdout",
          "output_type": "stream",
          "text": [
            "[[1 0 1 0 1 0 1 0]\n",
            " [1 1 0 1 1 1 1 1]]\n"
          ]
        }
      ],
      "source": [
        "print(X.toarray())"
      ]
    },
    {
      "cell_type": "markdown",
      "metadata": {
        "id": "sumRDan42Kpc"
      },
      "source": [
        "### CountVectorizer on UseNet posts"
      ]
    },
    {
      "cell_type": "code",
      "execution_count": null,
      "metadata": {
        "id": "n2ZWkdJeifg3"
      },
      "outputs": [],
      "source": [
        "import os\n",
        "DIR = \"/content/20news-bydate-train/rec.sport.hockey\"   "
      ]
    },
    {
      "cell_type": "code",
      "execution_count": 12,
      "metadata": {
        "id": "g4je5THciUFx"
      },
      "outputs": [
        {
          "ename": "FileNotFoundError",
          "evalue": "[WinError 3] The system cannot find the path specified: '/content/20news-bydate-train/rec.sport.hockey'",
          "output_type": "error",
          "traceback": [
            "\u001b[1;31m---------------------------------------------------------------------------\u001b[0m",
            "\u001b[1;31mFileNotFoundError\u001b[0m                         Traceback (most recent call last)",
            "Cell \u001b[1;32mIn[12], line 1\u001b[0m\n\u001b[1;32m----> 1\u001b[0m posts \u001b[38;5;241m=\u001b[39m [\u001b[38;5;28mopen\u001b[39m(os\u001b[38;5;241m.\u001b[39mpath\u001b[38;5;241m.\u001b[39mjoin(DIR, filename))\u001b[38;5;241m.\u001b[39mread() \u001b[38;5;28;01mfor\u001b[39;00m filename \u001b[38;5;129;01min\u001b[39;00m \u001b[43mos\u001b[49m\u001b[38;5;241;43m.\u001b[39;49m\u001b[43mlistdir\u001b[49m\u001b[43m(\u001b[49m\u001b[43mDIR\u001b[49m\u001b[43m)\u001b[49m]\n",
            "\u001b[1;31mFileNotFoundError\u001b[0m: [WinError 3] The system cannot find the path specified: '/content/20news-bydate-train/rec.sport.hockey'"
          ]
        }
      ],
      "source": [
        "posts = [open(os.path.join(DIR, filename)).read() for filename in os.listdir(DIR)]"
      ]
    },
    {
      "cell_type": "code",
      "execution_count": 13,
      "metadata": {
        "colab": {
          "base_uri": "https://localhost:8080/",
          "height": 191
        },
        "id": "4W151couYXIi",
        "outputId": "88a4cdb9-3bc8-41d2-e2aa-0b02a1d68a3d"
      },
      "outputs": [
        {
          "ename": "NameError",
          "evalue": "name 'posts' is not defined",
          "output_type": "error",
          "traceback": [
            "\u001b[1;31m---------------------------------------------------------------------------\u001b[0m",
            "\u001b[1;31mNameError\u001b[0m                                 Traceback (most recent call last)",
            "Cell \u001b[1;32mIn[13], line 1\u001b[0m\n\u001b[1;32m----> 1\u001b[0m \u001b[43mposts\u001b[49m[\u001b[38;5;241m45\u001b[39m]\n",
            "\u001b[1;31mNameError\u001b[0m: name 'posts' is not defined"
          ]
        }
      ],
      "source": [
        "posts[45]"
      ]
    },
    {
      "cell_type": "code",
      "execution_count": null,
      "metadata": {
        "id": "OmsdSazzAPDf"
      },
      "outputs": [],
      "source": [
        "# TODO: fit_transform the vectorizer with our new data\n",
        "X_train = vectorizer.fit_transform(posts)"
      ]
    },
    {
      "cell_type": "code",
      "execution_count": null,
      "metadata": {
        "colab": {
          "base_uri": "https://localhost:8080/"
        },
        "id": "UxmpSr7-YpNI",
        "outputId": "5f5fe018-67b6-448f-d4ed-111259384f9f"
      },
      "outputs": [
        {
          "data": {
            "text/plain": [
              "(600, 12914)"
            ]
          },
          "execution_count": 20,
          "metadata": {},
          "output_type": "execute_result"
        }
      ],
      "source": [
        "X_train.shape"
      ]
    },
    {
      "cell_type": "code",
      "execution_count": null,
      "metadata": {
        "colab": {
          "base_uri": "https://localhost:8080/"
        },
        "id": "HqHNvFiAY21L",
        "outputId": "840cf504-0598-44f6-a8ed-3e85f9f88257"
      },
      "outputs": [
        {
          "name": "stdout",
          "output_type": "stream",
          "text": [
            "['00' '000' '000256' ... 'zupancic' 'zurich' 'zzzzzz']\n"
          ]
        }
      ],
      "source": [
        "print(vectorizer.get_feature_names_out())"
      ]
    },
    {
      "cell_type": "code",
      "execution_count": null,
      "metadata": {
        "colab": {
          "base_uri": "https://localhost:8080/"
        },
        "id": "tAqh7x-8AYyO",
        "outputId": "54126d45-d150-4881-b14a-cb31eff4ce05"
      },
      "outputs": [
        {
          "name": "stdout",
          "output_type": "stream",
          "text": [
            "  (0, 1900)\t1\n",
            "  (0, 2610)\t1\n",
            "  (0, 10730)\t1\n",
            "  (0, 11577)\t1\n",
            "  (0, 11807)\t1\n",
            "  (0, 12665)\t1\n"
          ]
        }
      ],
      "source": [
        "# TODO: vectorize the sentence \"Should a team be added in Wisconsin?\"\n",
        "new_post = \"Should a team be added to Wisconsin?\"\n",
        "new_post_vec = vectorizer.transform([new_post])\n",
        "print(new_post_vec)"
      ]
    },
    {
      "cell_type": "markdown",
      "metadata": {
        "id": "4za_qpSw2bIw"
      },
      "source": [
        "### Finding Nearest Neighbors\n",
        "\n",
        "`new_post_vec` is a feature vector, and we can try to find its nearest neighbors in the training set"
      ]
    },
    {
      "cell_type": "code",
      "execution_count": null,
      "metadata": {
        "id": "c1SFYjDhmlVQ"
      },
      "outputs": [],
      "source": [
        "import numpy as np"
      ]
    },
    {
      "cell_type": "code",
      "execution_count": null,
      "metadata": {
        "id": "maIrvuhtmoy9"
      },
      "outputs": [],
      "source": [
        "def dist_raw(v1, v2):\n",
        "  delta = v1-v2\n",
        "  return np.linalg.norm(delta)"
      ]
    },
    {
      "cell_type": "code",
      "execution_count": null,
      "metadata": {
        "id": "19vHS1mLAmO_"
      },
      "outputs": [],
      "source": [
        "# TODO: find the distances between the new post and the vectors in our training set"
      ]
    },
    {
      "cell_type": "code",
      "execution_count": null,
      "metadata": {
        "id": "bNGHLQuzAtMg"
      },
      "outputs": [],
      "source": [
        "# TODO: which post is the closest?"
      ]
    },
    {
      "cell_type": "markdown",
      "metadata": {
        "id": "G1PU3Ia52yse"
      },
      "source": [
        "Hmm. The querry document was `\"Should a new team be added to Wisconsin?\"`.\n",
        "\n",
        "Does this post seem related to our query feature? Let's check which elements of the feature vectors overlap."
      ]
    },
    {
      "cell_type": "code",
      "execution_count": null,
      "metadata": {
        "id": "HPdnRgLzBF9w"
      },
      "outputs": [],
      "source": [
        "# TODO: print the query vector and the closest vector?"
      ]
    },
    {
      "cell_type": "markdown",
      "metadata": {
        "id": "MlW5q5-9oUtU"
      },
      "source": [
        "That worked porly... There is no overlap in features. What happened?"
      ]
    },
    {
      "cell_type": "markdown",
      "metadata": {
        "id": "XpszVXHU3KBS"
      },
      "source": [
        "#### Normalized distance\n",
        "Normalizing vectors before computing distance focuses on document content rather than length"
      ]
    },
    {
      "cell_type": "code",
      "execution_count": null,
      "metadata": {
        "id": "P_P5S6V8oQE3"
      },
      "outputs": [],
      "source": [
        "def dist_norm(v1, v2):\n",
        "  v1_normalized = v1/np.linalg.norm(v1) #Normalize vectors to unit length\n",
        "  v2_normalized = v2/np.linalg.norm(v2)\n",
        "  delta = v1_normalized-v2_normalized   #Then take distance\n",
        "  return np.linalg.norm(delta)"
      ]
    },
    {
      "cell_type": "code",
      "execution_count": null,
      "metadata": {
        "id": "d3q1J6iYoefA"
      },
      "outputs": [],
      "source": [
        "# TODO: find the normalized distances between the new post and the vectors in our training set then find the new closest post"
      ]
    },
    {
      "cell_type": "markdown",
      "metadata": {
        "id": "BFOLmkJZqgNt"
      },
      "source": [
        "## Stop Words, Stemming, and TF-IDF\n",
        "Ignoring common words (stop words)"
      ]
    },
    {
      "cell_type": "code",
      "execution_count": null,
      "metadata": {
        "id": "_GaL1JhAqaSD"
      },
      "outputs": [],
      "source": [
        "vectorizer = CountVectorizer(min_df=1, stop_words='english')"
      ]
    },
    {
      "cell_type": "markdown",
      "metadata": {
        "id": "qmqTGz74q_Hp"
      },
      "source": [
        "We'll lose some words now. The size of the feature vector should be smaller."
      ]
    },
    {
      "cell_type": "code",
      "execution_count": null,
      "metadata": {
        "id": "bY2yEYzrq5gO"
      },
      "outputs": [],
      "source": [
        "X_train.shape #Old Vectorizations"
      ]
    },
    {
      "cell_type": "code",
      "execution_count": null,
      "metadata": {
        "id": "KK3_cNTZq8ic"
      },
      "outputs": [],
      "source": [
        "X_train = vectorizer.fit_transform(posts)"
      ]
    },
    {
      "cell_type": "code",
      "execution_count": null,
      "metadata": {
        "id": "1a0FtKFVq90I"
      },
      "outputs": [],
      "source": [
        "X_train.shape #New Vectorizations"
      ]
    },
    {
      "cell_type": "code",
      "execution_count": null,
      "metadata": {
        "id": "p4u96Ah-8f8r"
      },
      "outputs": [],
      "source": [
        "# TODO: based on a new query post, which post in our dataset is closest?"
      ]
    },
    {
      "cell_type": "markdown",
      "metadata": {
        "id": "4B_S_paguWBW"
      },
      "source": [
        "How did this do?\n",
        "\n",
        "We can can also add stemming and tf-idf:"
      ]
    },
    {
      "cell_type": "code",
      "execution_count": null,
      "metadata": {
        "id": "2Npi4jJfA2rU"
      },
      "outputs": [],
      "source": [
        "import nltk.stem\n",
        "english_stemmer = nltk.stem.SnowballStemmer('english')"
      ]
    },
    {
      "cell_type": "code",
      "execution_count": null,
      "metadata": {
        "id": "T8YDUn6hA_pL"
      },
      "outputs": [],
      "source": [
        "class StemmedCountVectorizer(CountVectorizer):\n",
        "   def build_analyzer(self):\n",
        "     analyzer = super(StemmedCountVectorizer, self).build_analyzer()\n",
        "     return lambda doc: (english_stemmer.stem(w) for w in analyzer(doc))"
      ]
    },
    {
      "cell_type": "code",
      "execution_count": null,
      "metadata": {
        "id": "meDYFD4DBxBw"
      },
      "outputs": [],
      "source": [
        "vectorizer = StemmedCountVectorizer(min_df=1, stop_words='english')\n",
        "X_train = vectorizer.fit_transform(posts)"
      ]
    },
    {
      "cell_type": "code",
      "execution_count": null,
      "metadata": {
        "id": "u74xxx5eCmoo"
      },
      "outputs": [],
      "source": [
        "from sklearn.feature_extraction.text import TfidfVectorizer\n",
        "class StemmedTfidfVectorizer(TfidfVectorizer):\n",
        "  def build_analyzer(self):\n",
        "    analyzer = super(TfidfVectorizer, self).build_analyzer()\n",
        "    return lambda doc: (english_stemmer.stem(w) for w in analyzer(doc))"
      ]
    },
    {
      "cell_type": "code",
      "execution_count": null,
      "metadata": {
        "id": "WjYFtQpDDTQF"
      },
      "outputs": [],
      "source": [
        "vectorizer = StemmedTfidfVectorizer(min_df=1, stop_words='english')\n",
        "X_train = vectorizer.fit_transform(posts)"
      ]
    },
    {
      "cell_type": "code",
      "execution_count": null,
      "metadata": {
        "id": "nEYUAxrJ-_ST"
      },
      "outputs": [],
      "source": [
        "# TODO: with these new vectorizers, lets test that query post again"
      ]
    },
    {
      "cell_type": "markdown",
      "metadata": {
        "id": "QZvoM8SH4WTM"
      },
      "source": [
        "#### Cosine Similarity\n",
        "\n",
        "We can use the cosine similarity instead of the normalized vector distance.\n",
        "\n",
        "But remember to maximize similarity vs. minimize distance."
      ]
    },
    {
      "cell_type": "code",
      "execution_count": null,
      "metadata": {
        "id": "obmUosM7Dnpx"
      },
      "outputs": [],
      "source": [
        "def cos_similarity(v1, v2):\n",
        "  v1_n = v1/(np.linalg.norm(v1))\n",
        "  v2_n = v2/(np.linalg.norm(v2))\n",
        "  return np.vdot(v1_n,v2_n)"
      ]
    },
    {
      "cell_type": "code",
      "execution_count": null,
      "metadata": {
        "id": "5lujC_X0_ISd"
      },
      "outputs": [],
      "source": [
        "# TODO: use cosine similarity as a distance metric and try the query post again"
      ]
    },
    {
      "cell_type": "markdown",
      "metadata": {
        "id": "JXNkt3574i3d"
      },
      "source": [
        "## Closest Document Function"
      ]
    },
    {
      "cell_type": "code",
      "execution_count": null,
      "metadata": {
        "id": "kkPP4P30HQZD"
      },
      "outputs": [],
      "source": [
        "# Helper function!\n",
        "def findClosestStory(promt):\n",
        "  new_post_vec = vectorizer.transform([promt])\n",
        "  dists = [cos_similarity(new_post_vec.toarray(),train_vec.toarray()) for train_vec in X_train]\n",
        "  closest_id = np.argmax(dists) #switch to arg max!\n",
        "  return posts[closest_id]\n"
      ]
    }
  ],
  "metadata": {
    "colab": {
      "collapsed_sections": [
        "E9CcmwoY1Uxc",
        "hWoW7gpG1c56",
        "4za_qpSw2bIw",
        "BFOLmkJZqgNt",
        "JXNkt3574i3d"
      ],
      "provenance": [],
      "toc_visible": true
    },
    "kernelspec": {
      "display_name": "Python (CSCI-4521)",
      "language": "python",
      "name": "csci-4521-class-venv"
    },
    "language_info": {
      "codemirror_mode": {
        "name": "ipython",
        "version": 3
      },
      "file_extension": ".py",
      "mimetype": "text/x-python",
      "name": "python",
      "nbconvert_exporter": "python",
      "pygments_lexer": "ipython3",
      "version": "3.12.3"
    }
  },
  "nbformat": 4,
  "nbformat_minor": 0
}
